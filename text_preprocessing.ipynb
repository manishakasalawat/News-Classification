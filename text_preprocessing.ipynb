{
  "nbformat": 4,
  "nbformat_minor": 0,
  "metadata": {
    "colab": {
      "name": "text_preprocessing.ipynb",
      "provenance": [],
      "collapsed_sections": [],
      "include_colab_link": true
    },
    "kernelspec": {
      "name": "python3",
      "display_name": "Python 3"
    }
  },
  "cells": [
    {
      "cell_type": "markdown",
      "metadata": {
        "id": "view-in-github",
        "colab_type": "text"
      },
      "source": [
        "<a href=\"https://colab.research.google.com/github/manishakasalawat/News-Classification/blob/master/text_preprocessing.ipynb\" target=\"_parent\"><img src=\"https://colab.research.google.com/assets/colab-badge.svg\" alt=\"Open In Colab\"/></a>"
      ]
    },
    {
      "cell_type": "markdown",
      "metadata": {
        "id": "xb2lU0rBpw0H",
        "colab_type": "text"
      },
      "source": [
        "**Nabin Hyanmikha**, *Khwopa Engineering College*\n"
      ]
    },
    {
      "cell_type": "code",
      "metadata": {
        "id": "ocpuXMNmyawn",
        "colab_type": "code",
        "outputId": "782b2272-a6c6-4780-d337-08b325a0b8c0",
        "colab": {
          "base_uri": "https://localhost:8080/",
          "height": 72
        }
      },
      "source": [
        "pip install nltk"
      ],
      "execution_count": 0,
      "outputs": [
        {
          "output_type": "stream",
          "text": [
            "Requirement already satisfied: nltk in /usr/local/lib/python3.6/dist-packages (3.2.5)\n",
            "Requirement already satisfied: six in /usr/local/lib/python3.6/dist-packages (from nltk) (1.12.0)\n"
          ],
          "name": "stdout"
        }
      ]
    },
    {
      "cell_type": "code",
      "metadata": {
        "id": "gdc1jBlJylSh",
        "colab_type": "code",
        "outputId": "c7acbe34-a5a6-435b-b4f8-3848b3309f76",
        "colab": {
          "base_uri": "https://localhost:8080/",
          "height": 52
        }
      },
      "source": [
        "import nltk\n",
        "nltk.download('stopwords')\n",
        "from nltk.corpus import stopwords"
      ],
      "execution_count": 0,
      "outputs": [
        {
          "output_type": "stream",
          "text": [
            "[nltk_data] Downloading package stopwords to /root/nltk_data...\n",
            "[nltk_data]   Unzipping corpora/stopwords.zip.\n"
          ],
          "name": "stdout"
        }
      ]
    },
    {
      "cell_type": "code",
      "metadata": {
        "id": "31z4Fb9Yywlw",
        "colab_type": "code",
        "outputId": "3b170bb7-57a4-48be-a950-87b8d8ebacd2",
        "colab": {
          "base_uri": "https://localhost:8080/",
          "height": 34
        }
      },
      "source": [
        "stop_word = stopwords.words('english')\n",
        "print(stop_word[:5])"
      ],
      "execution_count": 0,
      "outputs": [
        {
          "output_type": "stream",
          "text": [
            "['i', 'me', 'my', 'myself', 'we']\n"
          ],
          "name": "stdout"
        }
      ]
    },
    {
      "cell_type": "code",
      "metadata": {
        "id": "5qQUAfMIy8q0",
        "colab_type": "code",
        "colab": {}
      },
      "source": [
        "string = ['Here', 'i', 'am', 'nabin', 'hyanmikha', 'reading', 'at', 'Khwopa', 'Engineering', 'College', 'at', 'Bachelor', 'in', 'Computer', 'Engineering', '4th', 'year']"
      ],
      "execution_count": 0,
      "outputs": []
    },
    {
      "cell_type": "code",
      "metadata": {
        "id": "Ocx3Z-dH0WqJ",
        "colab_type": "code",
        "outputId": "fe083936-ddc5-4cf5-deeb-d614ca14320b",
        "colab": {
          "base_uri": "https://localhost:8080/",
          "height": 54
        }
      },
      "source": [
        "\" \".join([word for word in string if word not in stop_word])"
      ],
      "execution_count": 0,
      "outputs": [
        {
          "output_type": "execute_result",
          "data": {
            "text/plain": [
              "'Here nabin hyanmikha reading Khwopa Engineering College Bachelor Computer Engineering 4th year'"
            ]
          },
          "metadata": {
            "tags": []
          },
          "execution_count": 5
        }
      ]
    },
    {
      "cell_type": "code",
      "metadata": {
        "id": "FExsu9m_0tvm",
        "colab_type": "code",
        "colab": {}
      },
      "source": [
        "\n",
        "new_string = \"Khwopa Engineering College (KhEC) is situated in the culturally rich city of Bhaktapur, Nepal. It was established as a community college to provide engineering education by the local government with a motto 'Dedicated to country and people'.\"\n"
      ],
      "execution_count": 0,
      "outputs": []
    },
    {
      "cell_type": "code",
      "metadata": {
        "id": "lDEBM6qw02Ct",
        "colab_type": "code",
        "outputId": "bdf1943e-3c6e-4342-bfca-1c524238db03",
        "colab": {
          "base_uri": "https://localhost:8080/",
          "height": 54
        }
      },
      "source": [
        "new_string = new_string.lower()\n",
        "print(new_string)"
      ],
      "execution_count": 0,
      "outputs": [
        {
          "output_type": "stream",
          "text": [
            "khwopa engineering college (khec) is situated in the culturally rich city of bhaktapur, nepal. it was established as a community college to provide engineering education by the local government with a motto 'dedicated to country and people'.\n"
          ],
          "name": "stdout"
        }
      ]
    },
    {
      "cell_type": "code",
      "metadata": {
        "id": "MNGmlu_22M8g",
        "colab_type": "code",
        "colab": {}
      },
      "source": [
        "import re "
      ],
      "execution_count": 0,
      "outputs": []
    },
    {
      "cell_type": "code",
      "metadata": {
        "id": "uhVnvhJS2Xp0",
        "colab_type": "code",
        "outputId": "f3057582-dbd1-4e37-fe18-5003ea1c8a4e",
        "colab": {
          "base_uri": "https://localhost:8080/",
          "height": 54
        }
      },
      "source": [
        "new_string = re.sub('[!#?.:;,()/\"]', \" \", new_string)\n",
        "print(new_string)"
      ],
      "execution_count": 0,
      "outputs": [
        {
          "output_type": "stream",
          "text": [
            "khwopa engineering college  khec  is situated in the culturally rich city of bhaktapur  nepal  it was established as a community college to provide engineering education by the local government with a motto 'dedicated to country and people' \n"
          ],
          "name": "stdout"
        }
      ]
    },
    {
      "cell_type": "code",
      "metadata": {
        "id": "j42bdcrI3_1K",
        "colab_type": "code",
        "colab": {}
      },
      "source": [
        "from bs4 import BeautifulSoup\n",
        "import html\n",
        "import pandas as pd"
      ],
      "execution_count": 0,
      "outputs": []
    },
    {
      "cell_type": "code",
      "metadata": {
        "id": "SQX0J0zH7be7",
        "colab_type": "code",
        "outputId": "b7d8a7ba-e0de-4507-f2a0-d53e3f5d33e3",
        "colab": {
          "base_uri": "https://localhost:8080/",
          "height": 124
        }
      },
      "source": [
        "from google.colab import drive\n",
        "drive.mount('/content/gdrive')"
      ],
      "execution_count": 0,
      "outputs": [
        {
          "output_type": "stream",
          "text": [
            "Go to this URL in a browser: https://accounts.google.com/o/oauth2/auth?client_id=947318989803-6bn6qk8qdgf4n4g3pfee6491hc0brc4i.apps.googleusercontent.com&redirect_uri=urn%3aietf%3awg%3aoauth%3a2.0%3aoob&response_type=code&scope=email%20https%3a%2f%2fwww.googleapis.com%2fauth%2fdocs.test%20https%3a%2f%2fwww.googleapis.com%2fauth%2fdrive%20https%3a%2f%2fwww.googleapis.com%2fauth%2fdrive.photos.readonly%20https%3a%2f%2fwww.googleapis.com%2fauth%2fpeopleapi.readonly\n",
            "\n",
            "Enter your authorization code:\n",
            "··········\n",
            "Mounted at /content/gdrive\n"
          ],
          "name": "stdout"
        }
      ]
    },
    {
      "cell_type": "code",
      "metadata": {
        "id": "F7PhuIAU6PEV",
        "colab_type": "code",
        "outputId": "91721f16-60d1-4fbd-fd3f-ba2379782b7e",
        "colab": {
          "base_uri": "https://localhost:8080/",
          "height": 397
        }
      },
      "source": [
        "data=pd.read_csv(\"gdrive/My Drive/Colab Notebooks/Techmaira/NLP_data_preprocessing/crypto.csv\")\n",
        "data.head()"
      ],
      "execution_count": 0,
      "outputs": [
        {
          "output_type": "execute_result",
          "data": {
            "text/html": [
              "<div>\n",
              "<style scoped>\n",
              "    .dataframe tbody tr th:only-of-type {\n",
              "        vertical-align: middle;\n",
              "    }\n",
              "\n",
              "    .dataframe tbody tr th {\n",
              "        vertical-align: top;\n",
              "    }\n",
              "\n",
              "    .dataframe thead th {\n",
              "        text-align: right;\n",
              "    }\n",
              "</style>\n",
              "<table border=\"1\" class=\"dataframe\">\n",
              "  <thead>\n",
              "    <tr style=\"text-align: right;\">\n",
              "      <th></th>\n",
              "      <th>id</th>\n",
              "      <th>title</th>\n",
              "      <th>content</th>\n",
              "      <th>tags</th>\n",
              "    </tr>\n",
              "  </thead>\n",
              "  <tbody>\n",
              "    <tr>\n",
              "      <th>0</th>\n",
              "      <td>3</td>\n",
              "      <td>What are the benefits of the two permutation t...</td>\n",
              "      <td>&lt;p&gt;Why do we use a permutation table in the fi...</td>\n",
              "      <td>block-cipher des permutation</td>\n",
              "    </tr>\n",
              "    <tr>\n",
              "      <th>1</th>\n",
              "      <td>7</td>\n",
              "      <td>Why use a 1-2 Oblivious Transfer instead of a ...</td>\n",
              "      <td>&lt;p&gt;When initiating an &lt;a href=\"http://en.wikip...</td>\n",
              "      <td>oblivious-transfer multiparty-computation func...</td>\n",
              "    </tr>\n",
              "    <tr>\n",
              "      <th>2</th>\n",
              "      <td>8</td>\n",
              "      <td>Why do we append the length of the message in ...</td>\n",
              "      <td>&lt;p&gt;As we know, &lt;a href=\"http://en.wikipedia.or...</td>\n",
              "      <td>sha-1 hash</td>\n",
              "    </tr>\n",
              "    <tr>\n",
              "      <th>3</th>\n",
              "      <td>9</td>\n",
              "      <td>What is the general justification for the hard...</td>\n",
              "      <td>&lt;p&gt;Since most cryptographic hash functions are...</td>\n",
              "      <td>hash cryptanalysis preimage-resistance</td>\n",
              "    </tr>\n",
              "    <tr>\n",
              "      <th>4</th>\n",
              "      <td>14</td>\n",
              "      <td>How can I use asymmetric encryption, such as R...</td>\n",
              "      <td>&lt;p&gt;RSA is not designed to be used on long bloc...</td>\n",
              "      <td>encryption rsa public-key</td>\n",
              "    </tr>\n",
              "  </tbody>\n",
              "</table>\n",
              "</div>"
            ],
            "text/plain": [
              "   id  ...                                               tags\n",
              "0   3  ...                       block-cipher des permutation\n",
              "1   7  ...  oblivious-transfer multiparty-computation func...\n",
              "2   8  ...                                         sha-1 hash\n",
              "3   9  ...             hash cryptanalysis preimage-resistance\n",
              "4  14  ...                          encryption rsa public-key\n",
              "\n",
              "[5 rows x 4 columns]"
            ]
          },
          "metadata": {
            "tags": []
          },
          "execution_count": 74
        }
      ]
    },
    {
      "cell_type": "code",
      "metadata": {
        "id": "Fbbj-h94lY6e",
        "colab_type": "code",
        "colab": {}
      },
      "source": [
        "def data_preprocess(data):\n",
        "  data = \" \".join([word for word in data.split() if word not in stop_word]).lower() #removal of stop words\n",
        "  data = BeautifulSoup(html.unescape(data), \"lxml\").text #removal of html tags\n",
        "  data = re.sub('[!#?,.:\";]', '', data) #removal of special characters\n",
        "  data = re.sub(\"http[s]?://\\S+\", \"\", data) #removal of hyperlinks\n",
        "  data = re.sub(\"\\s+\", \" \", data) #regularizing the space\n",
        "  return data"
      ],
      "execution_count": 0,
      "outputs": []
    },
    {
      "cell_type": "code",
      "metadata": {
        "id": "aAobRc9IgEr2",
        "colab_type": "code",
        "colab": {}
      },
      "source": [
        "data['content'] = data['content'].apply(data_preprocess)\n",
        "data['title'] = data['title'].apply(data_preprocess)"
      ],
      "execution_count": 0,
      "outputs": []
    },
    {
      "cell_type": "code",
      "metadata": {
        "id": "e7MRZo5Qgrgq",
        "colab_type": "code",
        "outputId": "935fd1ac-e582-4034-bef2-4ffe291ce89f",
        "colab": {
          "base_uri": "https://localhost:8080/",
          "height": 380
        }
      },
      "source": [
        "data.head()"
      ],
      "execution_count": 0,
      "outputs": [
        {
          "output_type": "execute_result",
          "data": {
            "text/html": [
              "<div>\n",
              "<style scoped>\n",
              "    .dataframe tbody tr th:only-of-type {\n",
              "        vertical-align: middle;\n",
              "    }\n",
              "\n",
              "    .dataframe tbody tr th {\n",
              "        vertical-align: top;\n",
              "    }\n",
              "\n",
              "    .dataframe thead th {\n",
              "        text-align: right;\n",
              "    }\n",
              "</style>\n",
              "<table border=\"1\" class=\"dataframe\">\n",
              "  <thead>\n",
              "    <tr style=\"text-align: right;\">\n",
              "      <th></th>\n",
              "      <th>id</th>\n",
              "      <th>title</th>\n",
              "      <th>content</th>\n",
              "      <th>tags</th>\n",
              "    </tr>\n",
              "  </thead>\n",
              "  <tbody>\n",
              "    <tr>\n",
              "      <th>0</th>\n",
              "      <td>3</td>\n",
              "      <td>what benefits two permutation tables des</td>\n",
              "      <td>why use permutation table first step des algor...</td>\n",
              "      <td>block-cipher des permutation</td>\n",
              "    </tr>\n",
              "    <tr>\n",
              "      <th>1</th>\n",
              "      <td>7</td>\n",
              "      <td>why use 1-2 oblivious transfer instead 1 n obl...</td>\n",
              "      <td>when initiating oblivious transfer would someo...</td>\n",
              "      <td>oblivious-transfer multiparty-computation func...</td>\n",
              "    </tr>\n",
              "    <tr>\n",
              "      <th>2</th>\n",
              "      <td>8</td>\n",
              "      <td>why append length message sha-1 pre-processing</td>\n",
              "      <td>as know sha-1 irreversible append length messa...</td>\n",
              "      <td>sha-1 hash</td>\n",
              "    </tr>\n",
              "    <tr>\n",
              "      <th>3</th>\n",
              "      <td>9</td>\n",
              "      <td>what general justification hardness finding pr...</td>\n",
              "      <td>since cryptographic hash functions simple comp...</td>\n",
              "      <td>hash cryptanalysis preimage-resistance</td>\n",
              "    </tr>\n",
              "    <tr>\n",
              "      <th>4</th>\n",
              "      <td>14</td>\n",
              "      <td>how i use asymmetric encryption rsa encrypt ar...</td>\n",
              "      <td>rsa designed used long blocks plaintext like b...</td>\n",
              "      <td>encryption rsa public-key</td>\n",
              "    </tr>\n",
              "  </tbody>\n",
              "</table>\n",
              "</div>"
            ],
            "text/plain": [
              "   id  ...                                               tags\n",
              "0   3  ...                       block-cipher des permutation\n",
              "1   7  ...  oblivious-transfer multiparty-computation func...\n",
              "2   8  ...                                         sha-1 hash\n",
              "3   9  ...             hash cryptanalysis preimage-resistance\n",
              "4  14  ...                          encryption rsa public-key\n",
              "\n",
              "[5 rows x 4 columns]"
            ]
          },
          "metadata": {
            "tags": []
          },
          "execution_count": 78
        }
      ]
    },
    {
      "cell_type": "markdown",
      "metadata": {
        "id": "tQpuTvBW3AD3",
        "colab_type": "text"
      },
      "source": [
        "Day_6\n"
      ]
    },
    {
      "cell_type": "code",
      "metadata": {
        "id": "mmPtZ0cj9jDC",
        "colab_type": "code",
        "colab": {}
      },
      "source": [
        "\n",
        "#remove Contraction\n",
        "def remove_contraction(total_text):\n",
        "  total_text = str(total_text).lower()\n",
        "  \n",
        "  total_text = total_text.replace(\",000,000\", \"m\").replace(\",000\", \"k\").replace(\"can't\", \"can not\").replace(\"what's\", \"what is\").\\\n",
        "  replace(\"it's\", \"it is\").replace(\"'ve\", \" have\").replace(\"i'm\", \"i am\").replace(\"'re\", \" are\").replace(\"he's\", \"he is\").\\\n",
        "  replace(\"she's\", \"she is\").replace(\"'s\", \" own\").replace(\"'ll\",\" will\").replace(\"%\", \"percent\").replace(\"$\", \"dollar\")\n",
        "\n",
        "\n",
        "  total_text = re.sub(r\"([0-9]+)000000\",\"\\1m\",total_text)\n",
        "  total_text = re.sub(r\"([0-9]+)000\",\"\\1k\",total_text)\n",
        "  return total_text\n",
        "\n",
        "\n",
        "#remove of multi spacing and special character\n",
        "def nlp_preprocessing(total_text):\n",
        "  \n",
        "  total_text = re.sub('\\s+', ' ', total_text)\n",
        "  total_text = re.sub('[^a-zA-Z0-9\\n]',' ', total_text)\n",
        "  total_text = remove_contraction(total_text)\n",
        "  return total_text\n"
      ],
      "execution_count": 0,
      "outputs": []
    },
    {
      "cell_type": "code",
      "metadata": {
        "id": "CI-N_CGm39iZ",
        "colab_type": "code",
        "outputId": "6c1bbceb-bdc3-4db9-a704-36d420101ebf",
        "colab": {
          "base_uri": "https://localhost:8080/",
          "height": 72
        }
      },
      "source": [
        "import time \n",
        "\n",
        "\n",
        "start_time = time.clock()\n",
        "data['content'] = data['content'].apply(nlp_preprocessing)\n",
        "print(f'The time taken for Content column pre-processing of dataset is {time.clock() - start_time} seconds')\n",
        "start_time = time.clock()\n",
        "data['title'] = data['title'].apply(nlp_preprocessing)\n",
        "print(f'The time taken for Title column pre-processing of dataset is {time.clock() - start_time} seconds')"
      ],
      "execution_count": 0,
      "outputs": [
        {
          "output_type": "stream",
          "text": [
            "The time taken for Content column pre-processing of dataset is 1.1216030000000075 seconds\n",
            "The time taken for Title column pre-processing of dataset is 0.1263099999999895 seconds\n"
          ],
          "name": "stdout"
        }
      ]
    },
    {
      "cell_type": "code",
      "metadata": {
        "id": "VTCXTdu_4Jhd",
        "colab_type": "code",
        "outputId": "6608b60e-7723-4d9f-8d30-f78aac90fe69",
        "colab": {
          "base_uri": "https://localhost:8080/",
          "height": 225
        }
      },
      "source": [
        "print(data['content'][:5])\n",
        "print(data['title'][:5])"
      ],
      "execution_count": 0,
      "outputs": [
        {
          "output_type": "stream",
          "text": [
            "0    why use permutation table first step des algor...\n",
            "1    when initiating oblivious transfer would someo...\n",
            "2    as know sha 1 irreversible append length messa...\n",
            "3    since cryptographic hash functions simple comp...\n",
            "4    rsa designed used long blocks plaintext like b...\n",
            "Name: content, dtype: object\n",
            "0             what benefits two permutation tables des\n",
            "1    why use 1 2 oblivious transfer instead 1 n obl...\n",
            "2       why append length message sha 1 pre processing\n",
            "3    what general justification hardness finding pr...\n",
            "4    how i use asymmetric encryption rsa encrypt ar...\n",
            "Name: title, dtype: object\n"
          ],
          "name": "stdout"
        }
      ]
    },
    {
      "cell_type": "code",
      "metadata": {
        "id": "vZmKv2GU4gZO",
        "colab_type": "code",
        "outputId": "42e71fab-6e3f-46a8-a98f-99769321b8dc",
        "colab": {
          "base_uri": "https://localhost:8080/",
          "height": 52
        }
      },
      "source": [
        "#stemming\n",
        "from nltk.stem import PorterStemmer\n",
        "from nltk.tokenize import sent_tokenize, word_tokenize\n",
        "import nltk\n",
        "nltk.download('punkt')\n",
        "def stemming_text(passed_data):\n",
        "  words = word_tokenize(passed_data)\n",
        "  ps = PorterStemmer()\n",
        "  new_string=''\n",
        "  for w in words:\n",
        "    root_word=ps.stem(w)\n",
        "    new_string =  new_string + \" \" + root_word\n",
        "  return new_string "
      ],
      "execution_count": 0,
      "outputs": [
        {
          "output_type": "stream",
          "text": [
            "[nltk_data] Downloading package punkt to /root/nltk_data...\n",
            "[nltk_data]   Package punkt is already up-to-date!\n"
          ],
          "name": "stdout"
        }
      ]
    },
    {
      "cell_type": "code",
      "metadata": {
        "id": "6UWUqUoRG-8j",
        "colab_type": "code",
        "outputId": "02ae152f-7720-4609-c343-b31612ed534e",
        "colab": {
          "base_uri": "https://localhost:8080/",
          "height": 52
        }
      },
      "source": [
        "#lemmatization\n",
        "from nltk.stem import WordNetLemmatizer\n",
        "import nltk\n",
        "nltk.download('wordnet')\n",
        "def text_lemmatizer(passed_text):\n",
        "  words = word_tokenize(passed_text)\n",
        "  wordnet_lemmatizer = WordNetLemmatizer()\n",
        "  new_string = ''\n",
        "  for w in words:\n",
        "    root_word = wordnet_lemmatizer.lemmatize(w)\n",
        "    new_string = new_string + \" \" + root_word\n",
        "  return new_string "
      ],
      "execution_count": 0,
      "outputs": [
        {
          "output_type": "stream",
          "text": [
            "[nltk_data] Downloading package wordnet to /root/nltk_data...\n",
            "[nltk_data]   Package wordnet is already up-to-date!\n"
          ],
          "name": "stdout"
        }
      ]
    },
    {
      "cell_type": "code",
      "metadata": {
        "id": "b-ySM3xI4u_n",
        "colab_type": "code",
        "outputId": "ebf51c94-eef5-4d84-fa7b-678ea6e58f69",
        "colab": {
          "base_uri": "https://localhost:8080/",
          "height": 156
        }
      },
      "source": [
        "# data['content']=data['content'].apply(stemming)\n",
        "# data['title']=data['title'].apply(stemming_text)\n",
        "# print(data['content'][:3])\n",
        "# print(data['title'][:3])"
      ],
      "execution_count": 0,
      "outputs": [
        {
          "output_type": "stream",
          "text": [
            "0    whi use permut tabl first step de algorithm on...\n",
            "1    when initi oblivi transfer would someon use 1 ...\n",
            "2    a know sha 1 irrevers append length messag pre...\n",
            "Name: content, dtype: object\n",
            "0                      what benefit two permut tabl de\n",
            "1     whi use 1 2 oblivi transfer instead 1 n obliv...\n",
            "2           whi append length messag sha 1 pre process\n",
            "Name: title, dtype: object\n"
          ],
          "name": "stdout"
        }
      ]
    },
    {
      "cell_type": "code",
      "metadata": {
        "id": "32jJOyZHFvrs",
        "colab_type": "code",
        "outputId": "23a1a5c7-f272-40a0-d093-783ee7ca2ab5",
        "colab": {
          "base_uri": "https://localhost:8080/",
          "height": 156
        }
      },
      "source": [
        "data['content'] = data['content'].apply(text_lemmatizer)\n",
        "data['title'] = data['title'].apply(text_lemmatizer)\n",
        "print(data['content'][:3])\n",
        "print(data['title'][:3])"
      ],
      "execution_count": 0,
      "outputs": [
        {
          "output_type": "stream",
          "text": [
            "0     why use permutation table first step de algor...\n",
            "1     when initiating oblivious transfer would some...\n",
            "2     a know sha 1 irreversible append length messa...\n",
            "Name: content, dtype: object\n",
            "0                what benefit two permutation table de\n",
            "1     why use 1 2 oblivious transfer instead 1 n ob...\n",
            "2       why append length message sha 1 pre processing\n",
            "Name: title, dtype: object\n"
          ],
          "name": "stdout"
        }
      ]
    },
    {
      "cell_type": "code",
      "metadata": {
        "id": "qTMDLExSGJ-7",
        "colab_type": "code",
        "colab": {}
      },
      "source": [
        ""
      ],
      "execution_count": 0,
      "outputs": []
    }
  ]
}